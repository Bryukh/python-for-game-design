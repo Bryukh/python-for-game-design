{
 "cells": [
  {
   "cell_type": "markdown",
   "metadata": {},
   "source": [
    "# Why Python for Game Designers\n",
    "![GD Plus Python Logo](./Assets/gd-plus-py.png)\n",
    "Drafts of this series idea have been lying in my backlog for a long time, so first, I will start with the WHY #python for #gamedesign. I've been using this combo for a long time; however, I think it is not a prominent pair."
   ]
  },
  {
   "cell_type": "markdown",
   "metadata": {},
   "source": [
    "# Welcome to Python for Game Designers\n",
    "\n",
    "Python is a high-level, general-purpose programming language. You might be surprised to learn how closely Python and game design are connected. Believe me, they work together exceptionally well. My name is Valentin—I'm a game designer and developer specializing in educational coding games. I have spent many years working as a telecommunications and software engineer. I'm here to explain why Python can be a powerful ally in your game design journey.\n",
    "\n",
    "Welcome to Python for Game Designers, a series dedicated to empowering game designers with the tools and knowledge to integrate Python into their workflow. Through multiple articles, I'll share my experiences and explore how Python—alongside Jupyter Notebooks and other tools—can enhance the game design, particularly in balancing and simulations. We'll dive into practical techniques and hands-on examples demonstrating how to model game mechanics, run simulations, and rapidly iterate on ideas. Whether you're an experienced designer or new to the field, this series aims to provide insights that make your game designs more efficient and effective, helping you bring your concepts to life.\n",
    "\n"
   ]
  },
  {
   "cell_type": "markdown",
   "metadata": {},
   "source": [
    "# Why Use Python for Game Design?\n",
    "\n",
    "My journey into game design with Python began from a different path—I spent years working as a telecommunications and software engineer. At some point in my career, I pivoted and found myself drawn to game development, particularly in creating educational coding games. Python was already in my toolbox and technology stack, so it quickly became an essential skill when I started working at CheckiO. CheckiO was a platform with puzzles, challenges, and games designed to help people practice and learn Python. Later, I worked on \"Empire of Code,\" where I used Python for simulations and prototyping, and then at CodeCombat, where Python is one of the main languages taught to kids and students. In CodeCombat, Python became invaluable for processing analytics data, and I turned to Jupyter Notebooks, where Python is a powerhouse. While working on analytics for AILeague and analyzing match results, I discovered that Python notebooks were incredibly powerful for processing data and running simulations to improve game balancing.\n",
    "\n",
    "Python is an excellent choice for game designers due to its simplicity, readability, and the interactive nature of Jupyter notebooks. Python's clear syntax allows designers to implement and test game mechanics without the steep learning curve of other languages, making it accessible even for those with little programming experience. Jupyter Notebooks takes this a step further by providing an interactive environment where code, data, and results can be combined in one place. This makes the iterative trial, error, and refinement process seamless, allowing designers to experiment with game balancing and simulations rapidly. The ability to see immediate feedback on changes enables a more dynamic and hands-on approach to solving design challenges, turning complex game systems into manageable, tweakable models."
   ]
  },
  {
   "cell_type": "markdown",
   "metadata": {},
   "source": [
    "# Simplicity of Python\n",
    "\n",
    "Python's easy-to-read syntax makes it a great choice for game designers, allowing them to quickly implement and adjust game logic. The language's simplicity is evident in how functions and loops are structured, making the code clear and intuitive. For example, finding and attacking enemies can be written straightforwardly:\n",
    "\n",
    "```python\n",
    "enemies = find_enemies(hero)\n",
    "for enemy in enemies:\n",
    "    attack(hero, enemy)\n",
    "```\n",
    "\n",
    "Instead of cumbersome conditionals, Python's if statements are clear and direct:\n",
    "\n",
    "```python\n",
    "if hero.health <= 0:\n",
    "    print(\"Game Over\")\n",
    "```\n",
    "\n",
    "Python's simple structure helps designers quickly understand and modify code, allowing them to concentrate on refining game mechanics and ideas.\n",
    "\n",
    "Python's simplicity makes it accessible for designers without a programming background. Its readable syntax allows designers to quickly understand and write code, enabling them to experiment with game mechanics hands-on, iteratively. For example, a small code fragment like the one below can be easily grasped by designers, showing how unit attributes and combat mechanics can be defined and managed:\n",
    "\n",
    "```python\n",
    "UNITS_ATTRIBUTES = pd.DataFrame({\n",
    "    'unit_type': UNIT_TYPES,\n",
    "    'health': [100, 150, 50, 50, 100, 50],\n",
    "    'attack_damage': [10, 15, 20, 10, 15, 20],\n",
    "    'speed': [1.5, 1.2, 1, 1.5, 1.2, 1],\n",
    "    'attack_range': [1, 1, 10, 1, 1, 10],\n",
    "    'attack_cooldown': [0.7, 1, 2, 0.5, 1, 2]\n",
    "}).set_index('unit_type')\n",
    "\n",
    "class Unit:\n",
    "    def __init__(self, unit_type: str, x=0):\n",
    "        self.type = unit_type\n",
    "        self.attributes = UNITS_ATTRIBUTES.loc[unit_type]\n",
    "        self.max_health = self.attributes.health\n",
    "        self.current_health = self.max_health\n",
    "        self.current_attack_cooldown = 0\n",
    "        self.x = x\n",
    "\n",
    "def distance_between(unit1: Unit, unit2: Unit):\n",
    "    return abs(unit1.x - unit2.x)\n",
    "\n",
    "def enemy_in_range(unit: Unit, enemy: Unit):\n",
    "    return distance_between(unit, enemy) <= unit.attributes.attack_range\n",
    "\n",
    "def unit_can_attack(unit: Unit):\n",
    "    return unit.current_attack_cooldown <= 0\n",
    "```"
   ]
  },
  {
   "cell_type": "markdown",
   "metadata": {},
   "source": [
    "# Benefits of Jupyter Notebooks\n",
    "\n",
    "Jupyter notebooks are invaluable for game designers because they allow quick iteration and immediate feedback. In a single environment, designers can write code, run simulations, and see results instantly, making the trial-and-error process much faster. You can tweak variables, adjust mechanics, and test new ideas without switching between tools. This interactive approach helps refine game balance and mechanics in real time, speeding up the development cycle and enhancing creativity.\n",
    "\n",
    "![Screenshot of Jupyter Notebook with code and text code](./Assets/screenshot_jupyter_notebook_code_and_text.png)\n",
    "\n",
    "Jupyter notebooks also combine code, results, and documentation all in one place, making them ideal for experimentation and learning. Designers can write code, describe their thought processes, and analyze outcomes within the same document. This integration helps refine game mechanics and keeps the workflow organized and easy to revisit, providing a comprehensive record of the design process and enhancing iterative design efficiency.\n",
    "\n",
    "![Screenshot of Jupyter Notebook with game](./Assets/screenshot_jupyter_notebook.png)"
   ]
  },
  {
   "cell_type": "markdown",
   "metadata": {},
   "source": [
    "# Practical Applications\n",
    "\n",
    "Python excels in practical game design tasks like balancing and simple simulations. It allows designers to test mechanics, adjust parameters, and run scenarios to fine-tune gameplay. Whether simulating combat or balancing resource systems, Python makes it easy to experiment and iterate. Detailed examples will be explored in future articles.\n",
    "\n",
    "![Screenshot of Jupyter Notebook with game analyses code](./Assets/gd-py-analyses-example.png)\n",
    "\n"
   ]
  },
  {
   "cell_type": "markdown",
   "metadata": {},
   "source": [
    "# Learning Python\n",
    "\n",
    "Learning Python in a game-oriented way can make the process engaging and directly applicable to your design needs. Online platforms like Codecademy and freeCodeCamp provide interactive Python courses on game development basics. For a more hands-on approach, platforms like CodeCombat or CheckiO teach Python through coding challenges in a game format, making the learning process fun and effective. I prefer to learn Python through a book because it's more structured and easier to understand; however, switching to practice is better after you know the basics.\n",
    "\n",
    "# Conclusion\n",
    "\n",
    "Python for Game Designers is a powerful tool for game designers looking to enhance their workflow and improve game balance and simulations. Its simplicity, readability, and interactive nature make it an ideal choice for designers who may not have a programming background. Jupyter Notebooks provide an environment where designers can write code, run simulations, and see results instantly, facilitating rapid iteration and experimentation. By leveraging Python's capabilities, game designers can streamline the process of refining game mechanics, testing ideas, and keeping detailed records of their design process.\n",
    "\n"
   ]
  }
 ],
 "metadata": {
  "language_info": {
   "name": "python"
  }
 },
 "nbformat": 4,
 "nbformat_minor": 2
}
