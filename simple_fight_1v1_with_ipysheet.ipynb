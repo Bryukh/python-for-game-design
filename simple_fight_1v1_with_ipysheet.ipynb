{
 "cells": [
  {
   "cell_type": "markdown",
   "metadata": {},
   "source": [
    "# Simple Fight 1v1 v102\n",
    "The current implementation is improved version of [simple-fight-1v1-101](./simple-fight-1v1-101.ipynb) with interactive spreadsheet-like interface."
   ]
  },
  {
   "cell_type": "code",
   "execution_count": null,
   "metadata": {},
   "outputs": [],
   "source": [
    "%pip -q install ipysheet\n",
    "%pip -q install pandas\n",
    "%pip install nbimporter"
   ]
  },
  {
   "cell_type": "code",
   "execution_count": 6,
   "metadata": {},
   "outputs": [],
   "source": [
    "\n",
    "import ipysheet\n",
    "\n",
    "import pandas as pd\n",
    "import os\n",
    "import csv\n",
    "from collections import namedtuple\n",
    "\n",
    "import nbimporter\n",
    "import simple_fight_1v1\n"
   ]
  },
  {
   "cell_type": "code",
   "execution_count": 3,
   "metadata": {},
   "outputs": [
    {
     "data": {
      "application/vnd.jupyter.widget-view+json": {
       "model_id": "84171e1f70b842c49eaf394bdc0c8924",
       "version_major": 2,
       "version_minor": 0
      },
      "text/plain": [
       "Sheet(cells=(Cell(column_end=0, column_start=0, numeric_format='0[.]0', row_end=5, row_start=0, squeeze_row=Fa…"
      ]
     },
     "execution_count": 3,
     "metadata": {},
     "output_type": "execute_result"
    }
   ],
   "source": [
    "DEFAULT_UNIT_TYPES = ['soldier', 'knight', 'archer', 'goblin', 'ork', 'axe-thrower']\n",
    "ATTRIBUTE_NAMES = ['type', 'health', 'attack_damage', 'speed', 'attack_range', 'attack_cooldown']\n",
    "UnitAttributes = namedtuple('UnitAttributes', ATTRIBUTE_NAMES)\n",
    "\n",
    "# we need to check if the local file \"simle-fight-1v1-data.csv\" exists\n",
    "# if not, we need to create it and initialize it with some data\n",
    "DATA_FILE_NAME = 'work_data/simple-fight-1v1-data.csv'\n",
    "\n",
    "def create_clear_data_file(file_name):\n",
    "    with open(file_name, 'w') as f:\n",
    "        writer = csv.writer(f)\n",
    "        writer.writerow(ATTRIBUTE_NAMES)\n",
    "        for unit_type in DEFAULT_UNIT_TYPES:\n",
    "            writer.writerow([unit_type, 100, 10, 10, 10, 1])\n",
    "\n",
    "if not os.path.exists(DATA_FILE_NAME):\n",
    "    create_clear_data_file(DATA_FILE_NAME)\n",
    "\n",
    "# Now we read the data from the file and write down them into pandas DataFrame\n",
    "df = pd.read_csv(DATA_FILE_NAME, index_col='type')\n",
    "sheet = ipysheet.from_dataframe(df)\n",
    "# ipysheet.cell_range(sheet.cells)\n",
    "def update_data_file(change):\n",
    "    ipysheet.to_dataframe(sheet).to_csv(DATA_FILE_NAME, index='type', index_label='type')\n",
    "\n",
    "# Have no idea why but cells are columns in ipysheet and act as cell ranges and we can put observers on them\n",
    "for cell in sheet.cells:\n",
    "    cell.observe(update_data_file, 'value')\n",
    "sheet\n"
   ]
  },
  {
   "cell_type": "code",
   "execution_count": 27,
   "metadata": {},
   "outputs": [
    {
     "data": {
      "text/plain": [
       "{'soldier': Unit(type='soldier', health=33, attack_damage=20, speed=22, attack_range=10, attack_cooldown=1),\n",
       " 'knight': Unit(type='knight', health=100, attack_damage=10, speed=10, attack_range=10, attack_cooldown=1),\n",
       " 'archer': Unit(type='archer', health=100, attack_damage=10, speed=10, attack_range=10, attack_cooldown=1),\n",
       " 'goblin': Unit(type='goblin', health=100, attack_damage=10, speed=10, attack_range=10, attack_cooldown=1),\n",
       " 'ork': Unit(type='ork', health=100, attack_damage=10, speed=10, attack_range=10, attack_cooldown=1),\n",
       " 'axe-thrower': Unit(type='axe-thrower', health=100, attack_damage=10, speed=10, attack_range=10, attack_cooldown=1)}"
      ]
     },
     "execution_count": 27,
     "metadata": {},
     "output_type": "execute_result"
    }
   ],
   "source": [
    "# Now we need to create a function to get unit attributes from the sheet\n",
    "unit_types = sheet.row_headers\n",
    "\n",
    "units_data = {}\n",
    "\n",
    "# Units attributes\n",
    "# UNITS_ATTRIBUTES = {\n",
    "#     'soldier': UnitAttributes(health=100, attack_damage=10, speed=1.5, attack_range=1, attack_cooldown=0.7),\n",
    "#     'knight': UnitAttributes(health=150, attack_damage=15, speed=1.2, attack_range=1, attack_cooldown=1),\n",
    "#     'archer': UnitAttributes(health=50, attack_damage=20, speed=1, attack_range=10, attack_cooldown=2),\n",
    "#     'goblin': UnitAttributes(health=50, attack_damage=10, speed=1.5, attack_range=1, attack_cooldown=0.5),\n",
    "#     'ork': UnitAttributes(health=100, attack_damage=15, speed=1.2, attack_range=1, attack_cooldown=1),\n",
    "#     'axe-thrower': UnitAttributes(health=50, attack_damage=20, speed=1, attack_range=10, attack_cooldown=2),\n",
    "# }\n",
    "\n",
    "for row, unit_type in enumerate(unit_types):\n",
    "    unit = {}\n",
    "    for col, attribute in enumerate(ATTRIBUTE_NAMES[1:]):\n",
    "        unit[attribute] = sheet.cells[col].value[row]\n",
    "        unit[\"type\"] = unit_type\n",
    "    units_data[unit_type] = UnitAttributes(**unit)\n",
    "\n",
    "units_data\n"
   ]
  },
  {
   "cell_type": "code",
   "execution_count": null,
   "metadata": {},
   "outputs": [],
   "source": [
    "DT = 0.1\n",
    "FIELD_SIZE = 15\n",
    "\n",
    "def create_unit(unit_type: str, x=0) -> dict:\n",
    "    attributes = units_data[unit_type]\n",
    "    unit = {}\n",
    "    unit['type'] = unit_type\n",
    "    unit['max_health'] = attributes.health\n",
    "    unit['current_health'] = attributes.health\n",
    "    unit['current_attack_cooldown'] = 0\n",
    "    unit['x'] = x\n",
    "    return unit\n",
    "\n",
    "def get_unit_attribute(unit: dict, attribute: str):\n",
    "    return getattr(units_data[unit['type']], attribute)\n",
    "\n",
    "def distance_between(unit1: dict, unit2: dict):\n",
    "    return abs(unit1['x'] - unit2['x'])\n",
    "\n",
    "def enemy_in_range(unit: dict, enemy: dict):\n",
    "    return distance_between(unit, enemy) <= get_unit_attribute(unit, \"attack_range\")\n",
    "\n",
    "def unit_can_attack(unit: dict):\n",
    "    return unit[\"current_attack_cooldown\"] <= 0\n",
    "\n",
    "def simulate_fight(unit_type1: dict, unit_type2: dict):\n",
    "    unit1 = create_unit(unit_type1, 0)\n",
    "    unit2 = create_unit(unit_type2, FIELD_SIZE)\n",
    "    time = 0\n",
    "    while unit1[\"current_health\"] > 0 and unit2[\"current_health\"] > 0:\n",
    "        if enemy_in_range(unit1, unit2):\n",
    "            if unit_can_attack(unit1):\n",
    "                unit2[\"current_health\"] -= get_unit_attribute(unit1, \"attack_damage\")\n",
    "                unit1[\"current_attack_cooldown\"] = get_unit_attribute(unit1, \"attack_cooldown\")\n",
    "        else:\n",
    "            unit1[\"x\"] += get_unit_attribute(unit1, \"speed\") * DT\n",
    "        if enemy_in_range(unit2, unit1):\n",
    "            if unit_can_attack(unit2):\n",
    "                unit1[\"current_health\"] -= get_unit_attribute(unit2, \"attack_damage\")\n",
    "                unit2[\"current_attack_cooldown\"] = get_unit_attribute(unit2, \"attack_cooldown\")\n",
    "        else:\n",
    "            unit2[\"x\"] -= get_unit_attribute(unit2, \"speed\") * DT\n",
    "        time += DT\n",
    "        unit1[\"current_attack_cooldown\"] = max(0, unit1[\"current_attack_cooldown\"] - DT)\n",
    "        unit2[\"current_attack_cooldown\"] = max(0, unit2[\"current_attack_cooldown\"] - DT)\n",
    "    return time, unit1, unit2"
   ]
  }
 ],
 "metadata": {
  "kernelspec": {
   "display_name": "Python 3",
   "language": "python",
   "name": "python3"
  },
  "language_info": {
   "codemirror_mode": {
    "name": "ipython",
    "version": 3
   },
   "file_extension": ".py",
   "mimetype": "text/x-python",
   "name": "python",
   "nbconvert_exporter": "python",
   "pygments_lexer": "ipython3",
   "version": "3.11.1"
  },
  "orig_nbformat": 4
 },
 "nbformat": 4,
 "nbformat_minor": 2
}
