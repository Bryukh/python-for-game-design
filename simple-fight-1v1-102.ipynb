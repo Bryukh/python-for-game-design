{
 "cells": [
  {
   "cell_type": "markdown",
   "metadata": {},
   "source": [
    "# Simple Fight 1v1 v102\n",
    "The current implementation is improved version of [simple-fight-1v1-101](./simple-fight-1v1-101.ipynb) with interactive spreadsheet-like interface."
   ]
  },
  {
   "cell_type": "code",
   "execution_count": 55,
   "metadata": {},
   "outputs": [
    {
     "name": "stdout",
     "output_type": "stream",
     "text": [
      "Note: you may need to restart the kernel to use updated packages.\n",
      "Note: you may need to restart the kernel to use updated packages.\n"
     ]
    }
   ],
   "source": [
    "%pip -q install ipysheet\n",
    "import ipysheet\n",
    "%pip -q install pandas\n",
    "import pandas as pd\n",
    "import os\n",
    "import csv\n",
    "from collections import namedtuple"
   ]
  },
  {
   "cell_type": "code",
   "execution_count": 62,
   "metadata": {},
   "outputs": [
    {
     "data": {
      "application/vnd.jupyter.widget-view+json": {
       "model_id": "408d201398c34b3bb2bae5cf353655f9",
       "version_major": 2,
       "version_minor": 0
      },
      "text/plain": [
       "Sheet(cells=(Cell(column_end=0, column_start=0, numeric_format='0[.]0', row_end=5, row_start=0, squeeze_row=Fa…"
      ]
     },
     "execution_count": 62,
     "metadata": {},
     "output_type": "execute_result"
    }
   ],
   "source": [
    "DEFAULT_UNIT_TYPES = ['soldier', 'knight', 'archer', 'goblin', 'ork', 'axe-thrower']\n",
    "ATTRIBUTE_NAMES = ['type', 'health', 'attack_damage', 'speed', 'attack_range', 'attack_cooldown']\n",
    "UnitAttributes = namedtuple('UnitAttributes', ATTRIBUTE_NAMES)\n",
    "\n",
    "# we need to check if the local file \"simle-fight-1v1-data.csv\" exists\n",
    "# if not, we need to create it and initialize it with some data\n",
    "DATA_FILE_NAME = 'work_data/simple-fight-1v1-data.csv'\n",
    "\n",
    "def create_clear_data_file(file_name):\n",
    "    with open(file_name, 'w') as f:\n",
    "        writer = csv.writer(f)\n",
    "        writer.writerow(ATTRIBUTE_NAMES)\n",
    "        for unit_type in DEFAULT_UNIT_TYPES:\n",
    "            writer.writerow([unit_type, 100, 10, 10, 10, 1])\n",
    "\n",
    "if not os.path.exists(DATA_FILE_NAME):\n",
    "    create_clear_data_file(DATA_FILE_NAME)\n",
    "\n",
    "# Now we read the data from the file and write down them into pandas DataFrame\n",
    "df = pd.read_csv(DATA_FILE_NAME, index_col='type')\n",
    "sheet = ipysheet.from_dataframe(df)\n",
    "# ipysheet.cell_range(sheet.cells)\n",
    "def update_data_file(change):\n",
    "    ipysheet.to_dataframe(sheet).to_csv(DATA_FILE_NAME, index='type', index_label='type')\n",
    "\n",
    "# Have no idea why but cells are columns in ipysheet and act as cell ranges and we can put observers on them\n",
    "for cell in sheet.cells:\n",
    "    cell.observe(update_data_file, 'value')\n",
    "sheet\n"
   ]
  }
 ],
 "metadata": {
  "kernelspec": {
   "display_name": "Python 3",
   "language": "python",
   "name": "python3"
  },
  "language_info": {
   "codemirror_mode": {
    "name": "ipython",
    "version": 3
   },
   "file_extension": ".py",
   "mimetype": "text/x-python",
   "name": "python",
   "nbconvert_exporter": "python",
   "pygments_lexer": "ipython3",
   "version": "3.11.1"
  },
  "orig_nbformat": 4
 },
 "nbformat": 4,
 "nbformat_minor": 2
}
